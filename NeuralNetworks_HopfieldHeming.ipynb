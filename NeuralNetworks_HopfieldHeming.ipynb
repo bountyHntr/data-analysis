{
 "cells": [
  {
   "cell_type": "code",
   "execution_count": 46,
   "metadata": {},
   "outputs": [],
   "source": [
    "import matplotlib.pyplot as plt\n",
    "%matplotlib inline"
   ]
  },
  {
   "cell_type": "code",
   "execution_count": 55,
   "metadata": {},
   "outputs": [],
   "source": [
    "def flatten(matrix):\n",
    "    flatten_array = []\n",
    "    for i in range(len(matrix)):\n",
    "        for j in range(len(matrix[i])):\n",
    "            flatten_array = append(flatten_array, matrix[i][j])\n",
    "    return flatten_array\n",
    "\n",
    "def to_matrix(flatten_array, row_len):\n",
    "    if len(flatten_array) % row_len != 0:\n",
    "        raise ValueError(f\"invalid row_len value: len(arr) = {len(flatten_array)}, row_len = {row_len}\")\n",
    "    matrix = [[] for i in range(len(flatten_array) // row_len)]\n",
    "    for i in range(0, len(matrix)):\n",
    "        for j in range(row_len):\n",
    "            matrix[i] = append(matrix[i], flatten_array[i*row_len + j])\n",
    "    return matrix\n",
    "\n",
    "def append(arr, *els):\n",
    "    new_arr = [0] * (len(arr) + len(els))\n",
    "    for i in range(len(arr)):\n",
    "        new_arr[i] = arr[i]\n",
    "    for i in range(len(els)):\n",
    "        new_arr[len(arr) + i] = els[i]\n",
    "    return new_arr\n",
    "\n",
    "def array_equal(arr1, arr2):\n",
    "    if len(arr1) != len(arr2):\n",
    "        return False\n",
    "    if len(arr1) == 0:\n",
    "        return True\n",
    "    for i in range(len(arr1)):\n",
    "        if arr1[i] != arr2[i]:\n",
    "            return False\n",
    "    return True\n",
    "\n",
    "def binary_step(arr):\n",
    "    result = []\n",
    "    if len(arr) == 0:\n",
    "        return result\n",
    "    for i in range(len(arr)):\n",
    "        if type(arr[i]) == list:\n",
    "            tmp = []\n",
    "            for j in range(len(arr[i])):\n",
    "                tmp = append(tmp, step(arr[i][j]))\n",
    "            result = append(result, tmp)\n",
    "        else:\n",
    "            result = append(result, step(arr[i]))\n",
    "    return result\n",
    "\n",
    "def step(el):\n",
    "    if el >= 0:\n",
    "        return 1\n",
    "    return -1\n",
    "\n",
    "def relu(arr):\n",
    "    result = []\n",
    "    if len(arr) == 0:\n",
    "        return result\n",
    "    for i in range(len(arr)):\n",
    "        if type(arr[i]) == list:\n",
    "            tmp = []\n",
    "            for j in range(len(arr[i])):\n",
    "                tmp = append(tmp, max(0, arr[i][j]))\n",
    "            result = append(result, tmp)\n",
    "        else:\n",
    "            result = append(result, max(0, arr[i]))\n",
    "    return result\n",
    "\n",
    "def max(*els):\n",
    "    if len(els) == 0:\n",
    "        return None\n",
    "    result = els[0]\n",
    "    if len(els) == 1:\n",
    "        return result\n",
    "    for el in els[1:]:\n",
    "        if el > result:\n",
    "            result = el\n",
    "    return result\n",
    "\n",
    "def deepcopy(arr):\n",
    "    if len(arr) == 0:\n",
    "        return []\n",
    "    if type(arr[0]) != list:\n",
    "        new_arr = [0] * len(arr)\n",
    "        for i in range(len(arr)):\n",
    "            new_arr[i] = arr[i]\n",
    "    else:\n",
    "        new_arr = []\n",
    "        for i in range(len(arr)):\n",
    "            new_arr = append(new_arr, [0] * len(arr[i]))\n",
    "            for j in range(len(arr[i])):\n",
    "                new_arr[i][j] = arr[i][j]\n",
    "    return new_arr"
   ]
  },
  {
   "cell_type": "code",
   "execution_count": 56,
   "metadata": {},
   "outputs": [],
   "source": [
    "def draw_matrix(matrix):\n",
    "    '''\n",
    "    Отрисовка матрицы\n",
    "    '''\n",
    "    plt.imshow(matrix, cmap='hot')\n",
    "    plt.show()\n",
    "\n",
    "def zeros(row, col=0):\n",
    "    if not col:\n",
    "        return [0] * row\n",
    "    return [[0] * row for j in range(col)]\n",
    "\n",
    "def ones(row, col=0):\n",
    "    if not col:\n",
    "        return [1] * row\n",
    "    return [[1] * row for j in range(col)]\n",
    "\n",
    "def read_image_from_file(filename):\n",
    "    '''\n",
    "    Считывание матрицы из файла\n",
    "    '''\n",
    "    with open(filename, \"r\") as f:\n",
    "        lines = f.readlines()\n",
    "        res = zeros(8, 8)\n",
    "        for i in range(len(lines)):\n",
    "            tmp = []\n",
    "            for s in list(lines[i]):\n",
    "                if s == '\\n':\n",
    "                    continue\n",
    "                if s == \"*\":\n",
    "                    tmp = append(tmp, int(1))\n",
    "                else:\n",
    "                    tmp = append(tmp, int(-1))\n",
    "            res[i] = tmp\n",
    "        draw_matrix(res)\n",
    "        return(res)\n",
    "\n",
    "def hopfield_fit(flatten_images):\n",
    "    '''\n",
    "    Нахождение весовых коэффициентов синапсов для сети Хопфилда\n",
    "    '''\n",
    "    w = zeros(64, 64)\n",
    "    for i in range(64):\n",
    "        for j in range(64):\n",
    "            s = 0\n",
    "            for k in range(len(flatten_images)):\n",
    "                s += flatten_images[k][i]* flatten_images[k][j]   \n",
    "            w[i][j] = s\n",
    "        w[i][i] = 0\n",
    "    return w\n",
    "\n",
    "\n",
    "def hopfield_restore_image(y_test, w):\n",
    "    '''\n",
    "    Построение изображения\n",
    "    '''\n",
    "    state = zeros(64)\n",
    "    for j in range(64):\n",
    "        s = 0\n",
    "        for i in range(64):\n",
    "            s += w[i][j] * y_test[i]\n",
    "        state[j] = s\n",
    "    return binary_step(state)\n",
    "\n",
    "def hopfield_check(image, flatten_images):\n",
    "    '''\n",
    "    Проверка найден образ или нет\n",
    "    '''\n",
    "    for i in flatten_images:\n",
    "        if array_equal(image, i):\n",
    "            return True\n",
    "    return False\n",
    "\n",
    "def heming_fit(flatten_images):\n",
    "    '''\n",
    "    Нахождение весовых коэффициентов синапсов для сети Хеминга\n",
    "    '''\n",
    "    w = zeros(len(flatten_images), 64)\n",
    "    for i in range(64):\n",
    "        for j in range(len(flatten_images)):\n",
    "            w[i][j] = float(flatten_images[j][i]) / 2\n",
    "    return w\n",
    "\n",
    "def init_layer(y, w):\n",
    "    '''\n",
    "    Инициализация нейронов 1-го слоя\n",
    "    '''\n",
    "    y_prev = zeros(len(flatten_images))\n",
    "    T = ones(len(flatten_images))\n",
    "    for i in range(len(T)):\n",
    "        T[i] *= 64/2\n",
    "    for i in range(len(y_prev)):\n",
    "        for j in range(64):\n",
    "            y_prev[i] += w[j][i] * y[j]\n",
    "        y_prev[i] += T[i]\n",
    "    return y_prev\n",
    "\n",
    "def heming_restore_image(y_test, eps):\n",
    "    '''\n",
    "    Запуск сети Хеминга на новом изображении\n",
    "    '''\n",
    "    state = zeros(len(y_test))\n",
    "    for i in range(len(y_test)):\n",
    "        s = y_test[i]\n",
    "        for j in range(len(y_test)):\n",
    "            if i != j:\n",
    "                s -= eps * y_test[j]\n",
    "        state[i] = s\n",
    "    return relu(state)\n",
    "\n",
    "def heming_check(image):\n",
    "    '''\n",
    "    Проверка найден образ или нет\n",
    "    '''\n",
    "    counter = 0\n",
    "    for x in image:\n",
    "        if x > 0:\n",
    "            counter += 1\n",
    "    return counter == 1"
   ]
  },
  {
   "cell_type": "code",
   "execution_count": 57,
   "metadata": {},
   "outputs": [
    {
     "name": "stdout",
     "output_type": "stream",
     "text": [
      "Image 1\n"
     ]
    },
    {
     "data": {
      "image/png": "[encoded data removed]",
      "text/plain": [
       "<Figure size 432x288 with 1 Axes>"
      ]
     },
     "metadata": {
      "needs_background": "light"
     },
     "output_type": "display_data"
    },
    {
     "name": "stdout",
     "output_type": "stream",
     "text": [
      "\n",
      "Image 2\n"
     ]
    },
    {
     "data": {
      "image/png": "[encoded data removed]",
      "text/plain": [
       "<Figure size 432x288 with 1 Axes>"
      ]
     },
     "metadata": {
      "needs_background": "light"
     },
     "output_type": "display_data"
    },
    {
     "name": "stdout",
     "output_type": "stream",
     "text": [
      "\n",
      "Image 3\n"
     ]
    },
    {
     "data": {
      "image/png": "[encoded data removed]",
      "text/plain": [
       "<Figure size 432x288 with 1 Axes>"
      ]
     },
     "metadata": {
      "needs_background": "light"
     },
     "output_type": "display_data"
    },
    {
     "name": "stdout",
     "output_type": "stream",
     "text": [
      "\n",
      "Image 4\n"
     ]
    },
    {
     "data": {
      "image/png": "[encoded data removed]",
      "text/plain": [
       "<Figure size 432x288 with 1 Axes>"
      ]
     },
     "metadata": {
      "needs_background": "light"
     },
     "output_type": "display_data"
    },
    {
     "name": "stdout",
     "output_type": "stream",
     "text": [
      "\n"
     ]
    }
   ],
   "source": [
    "images = []\n",
    "for i in range(1,5):\n",
    "    filename = f\"img{i}.txt\"\n",
    "    print(f\"Image {i}\")\n",
    "    images = append(images, read_image_from_file(filename))\n",
    "    print()\n",
    "\n",
    "flatten_images = []\n",
    "for image in images:\n",
    "    flatten_images = append(flatten_images, flatten(image))\n",
    "\n",
    "w_hopfield  = hopfield_fit(flatten_images)"
   ]
  },
  {
   "cell_type": "code",
   "execution_count": 58,
   "metadata": {},
   "outputs": [
    {
     "name": "stdout",
     "output_type": "stream",
     "text": [
      "FILE: test4.txt\n",
      "\n"
     ]
    },
    {
     "data": {
      "image/png": "[encoded data removed]",
      "text/plain": [
       "<Figure size 432x288 with 1 Axes>"
      ]
     },
     "metadata": {
      "needs_background": "light"
     },
     "output_type": "display_data"
    }
   ],
   "source": [
    "filename = f\"test{4}.txt\"\n",
    "print(f\"FILE: {filename}\\n\")\n",
    "y_test = flatten(read_image_from_file(filename))\n",
    "y = deepcopy(y_test)"
   ]
  },
  {
   "cell_type": "code",
   "execution_count": 61,
   "metadata": {},
   "outputs": [
    {
     "name": "stdout",
     "output_type": "stream",
     "text": [
      "stop\n",
      "Образ найден в коллекции\n"
     ]
    },
    {
     "data": {
      "image/png": "[encoded data removed]",
      "text/plain": [
       "<Figure size 432x288 with 1 Axes>"
      ]
     },
     "metadata": {
      "needs_background": "light"
     },
     "output_type": "display_data"
    }
   ],
   "source": [
    "y_old = deepcopy(y)\n",
    "y = hopfield_restore_image(y, w_hopfield)\n",
    "if array_equal(y_old, y):\n",
    "    print(\"stop\")\n",
    "    if hopfield_check(y, flatten_images):\n",
    "        print('Образ найден в коллекции')\n",
    "    else:\n",
    "        print('Образ не найден в коллекции')\n",
    "draw_matrix(to_matrix(y, 8))"
   ]
  },
  {
   "cell_type": "code",
   "execution_count": 62,
   "metadata": {},
   "outputs": [],
   "source": [
    "w_heming = heming_fit(flatten_images)"
   ]
  },
  {
   "cell_type": "code",
   "execution_count": 63,
   "metadata": {},
   "outputs": [
    {
     "name": "stdout",
     "output_type": "stream",
     "text": [
      "FILE: test1.txt\n",
      "\n"
     ]
    },
    {
     "data": {
      "image/png": "[encoded data removed]",
      "text/plain": [
       "<Figure size 432x288 with 1 Axes>"
      ]
     },
     "metadata": {
      "needs_background": "light"
     },
     "output_type": "display_data"
    }
   ],
   "source": [
    "filename = f\"test{1}.txt\"\n",
    "print(f\"FILE: {filename}\\n\")\n",
    "y_test = flatten(read_image_from_file(filename))\n",
    "y = init_layer(deepcopy(y_test), w_heming)\n",
    "eps = 1 / 9"
   ]
  },
  {
   "cell_type": "code",
   "execution_count": 68,
   "metadata": {},
   "outputs": [
    {
     "name": "stdout",
     "output_type": "stream",
     "text": [
      "[35.9007603854426, 0, 0, 0]\n"
     ]
    }
   ],
   "source": [
    "y_old = deepcopy(y)\n",
    "y = heming_restore_image(y, eps)\n",
    "if array_equal(y_old, y):\n",
    "    print(\"stop\")\n",
    "    if heming_check(y):\n",
    "        print('Образ найден в коллекции')\n",
    "    else:\n",
    "        print('Образ не найден в коллекции')\n",
    "print(y)"
   ]
  },
  {
   "cell_type": "code",
   "execution_count": null,
   "metadata": {},
   "outputs": [],
   "source": []
  }
 ],
 "metadata": {
  "interpreter": {
   "hash": "5179d32cf6ec497baf3f8a3ef987cc77c5d2dc691fdde20a56316522f61a7323"
  },
  "kernelspec": {
   "display_name": "Python 3",
   "language": "python",
   "name": "python3"
  },
  "language_info": {
   "codemirror_mode": {
    "name": "ipython",
    "version": 3
   },
   "file_extension": ".py",
   "mimetype": "text/x-python",
   "name": "python",
   "nbconvert_exporter": "python",
   "pygments_lexer": "ipython3",
   "version": "3.8.8"
  }
 },
 "nbformat": 4,
 "nbformat_minor": 2
}
